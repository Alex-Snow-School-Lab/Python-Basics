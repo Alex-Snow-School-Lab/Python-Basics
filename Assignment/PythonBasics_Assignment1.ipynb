{
  "nbformat": 4,
  "nbformat_minor": 0,
  "metadata": {
    "colab": {
      "name": "PythonBasics_Assignment1.ipynb",
      "provenance": []
    },
    "kernelspec": {
      "name": "python3",
      "display_name": "Python 3"
    }
  },
  "cells": [
    {
      "cell_type": "markdown",
      "metadata": {
        "id": "Y26YW3Mj2LHI",
        "colab_type": "text"
      },
      "source": [
        "<figure>\n",
        "<center>\n",
        "<img src='https://raw.githubusercontent.com/Alex-Snow-School-Lab/Python-Basics/master/cover%20ppt.png' width = '800px'/>\n",
        "</center>\n",
        "</figure>"
      ]
    },
    {
      "cell_type": "markdown",
      "metadata": {
        "id": "6VwQJVb9oQDe",
        "colab_type": "text"
      },
      "source": [
        "## Assignment 1\n",
        "**Assigned Date - 5 July 2020 (9:00 PM)**\n",
        "\n",
        "**Self-Interactive Due Date - 11 July 2020 (11:59:59 AM)**\n",
        "\n",
        "**Self-Paced Due Date - Infinity**\n"
      ]
    },
    {
      "cell_type": "markdown",
      "metadata": {
        "id": "3t-IGFgS0TQT",
        "colab_type": "text"
      },
      "source": [
        "### Description\n"
      ]
    },
    {
      "cell_type": "markdown",
      "metadata": {
        "id": "lp25lrzp08ew",
        "colab_type": "text"
      },
      "source": [
        "In this Assignment, you have to answer all of our questions and write appropriate coding answers in already declared functions to practice how well you understood \n",
        "about previous lectures and get hands on code with small problems exercise to gain more experience about python programming language.\n",
        "\n",
        "Once you've completed the assignment,\n",
        "\n",
        "1.   Rename this file \"PythonBasics - Assignment1.ipynb\" to this file naming format (Eg, **A1 - NyanSwanAung.ipynb**)\n",
        "\n",
        "2.   Upload your renamed answer file to our google drive folder  (see [this video](https://www.alexsnowschool.org/courses/take/intro-to-python/lessons/14303017-how-to-upload-your-assignment-files-to-our-avairds-google-drive-folder) for demo)\n",
        "\n",
        "\n",
        "---\n",
        "\n",
        "\n",
        "Rules\n",
        "\n",
        "In order to complete the Assignment 1, you have to answer **ALL OF THE QUESTIONS**. Your answers will be graded and stored in our system once we view your code and your certification depends on how well you answered the Assignment questions. **Submit your answer before deadline**.\n",
        "\n",
        "Tips for answering Assignment\n",
        "\n",
        "1. Write your coding answer in related already declared functions\n",
        "2. Once you've done the coding, run the cell and see if your output matches with expected output.\n",
        "3. You can use Google to search python built-in libraries/functions and python syntax \n",
        "\n",
        "4. Start Coding! 👨‍💻 👩‍💻🤓   "
      ]
    },
    {
      "cell_type": "markdown",
      "metadata": {
        "id": "Rl7XHezP1ffk",
        "colab_type": "text"
      },
      "source": [
        "### Example Question\n",
        "\n",
        "Write a string with this value \"Hello World\" by using `print()` function."
      ]
    },
    {
      "cell_type": "code",
      "metadata": {
        "id": "LM2AD7ob1nHV",
        "colab_type": "code",
        "colab": {
          "base_uri": "https://localhost:8080/",
          "height": 34
        },
        "outputId": "697f605f-6c74-411a-8b29-b37d50de1f8d"
      },
      "source": [
        "def example_1():\n",
        "  #Start your coding below\n",
        "  print('Hello World')\n",
        "\n",
        "example_1()\n",
        "# Expected Output: Hello World"
      ],
      "execution_count": null,
      "outputs": [
        {
          "output_type": "stream",
          "text": [
            "Hello World\n"
          ],
          "name": "stdout"
        }
      ]
    },
    {
      "cell_type": "markdown",
      "metadata": {
        "id": "Y9szuueEyZ1n",
        "colab_type": "text"
      },
      "source": [
        "### No. 1\n",
        "\n",
        "Write a Python program which accepts the radius of a circle from the user and compute the area.\n",
        "\n",
        "**Hint** : use pi value from `math library` and search it on google"
      ]
    },
    {
      "cell_type": "code",
      "metadata": {
        "id": "WH1z5e_Tyl7H",
        "colab_type": "code",
        "colab": {}
      },
      "source": [
        "from math import pi\n",
        "def no_1():\n",
        "  # Start your coding below\n",
        "\n",
        "no_1()\n",
        "# Expected Output\n",
        "# Enter the radius of a circle: user input\n",
        "# Area : result"
      ],
      "execution_count": 23,
      "outputs": []
    },
    {
      "cell_type": "markdown",
      "metadata": {
        "id": "ibWG7NoaxMWT",
        "colab_type": "text"
      },
      "source": [
        "### No. 2\n",
        "\n",
        "No(2_1)\n",
        "\n",
        "Write a Python program to find whether a given number (accept from the user) is even or odd, print out an appropriate message to the user.\n",
        "\n",
        "No(2_2)\n",
        "\n",
        "Write a Python program to test whether given letters(a, c) are vowels or not.\n",
        "\n",
        "**Hint** : use keyword `in`\n",
        "\n"
      ]
    },
    {
      "cell_type": "code",
      "metadata": {
        "id": "2rJ9WFUrxRQ7",
        "colab_type": "code",
        "colab": {}
      },
      "source": [
        "def no_2_1():\n",
        "  # Start your coding below\n",
        "   \n",
        "  \n",
        "def no_2_2():\n",
        "  char1, char2 = 'a', 'c'\n",
        "  all_vowels = 'aeiou'\n",
        "  # Start your coding below\n",
        "\n",
        "no_2_1()\n",
        "# Expected Output\n",
        "# Enter a number : user input\n",
        "# This is an odd number\n",
        "\n",
        "no_2_2()\n",
        "# Expected Output\n",
        "# a is a vowel\n",
        "# c is not a vowel "
      ],
      "execution_count": 20,
      "outputs": []
    },
    {
      "cell_type": "markdown",
      "metadata": {
        "id": "WqW6-0yzzL8Z",
        "colab_type": "text"
      },
      "source": [
        "### No. 3\n",
        "Write a Python program to print out all even numbers from a given numbers list in the same order and stop the printing if any numbers that come after 237 in the sequence.\n",
        "\n",
        "**Hint** : search python `break` keyword on google to quit from the loop"
      ]
    },
    {
      "cell_type": "code",
      "metadata": {
        "id": "SIJ3mwcTzQJj",
        "colab_type": "code",
        "colab": {}
      },
      "source": [
        "numbers = [    \n",
        "    386, 462, 47, 418, 907, 344, 236, 375, 823, 566, 597, 978, 328, 615, 953, 345, \n",
        "    399, 162, 758, 219, 918, 237, 412, 566, 826, 248, 866, 950, 626, 949, 687, 217, \n",
        "    815, 67, 104, 58, 512, 24, 892, 894, 767, 553, 81, 379, 843, 831, 445, 742, 717, \n",
        "    958,743, 527\n",
        "    ]\n",
        "\n",
        "def no_3():\n",
        "  # Start your coding below\n",
        "  \n",
        "\n",
        "no_3()\n",
        "# Expected Output : 386, 462, 418, 344, .... ,758, 918  "
      ],
      "execution_count": null,
      "outputs": []
    },
    {
      "cell_type": "markdown",
      "metadata": {
        "id": "YcDJB666zTvg",
        "colab_type": "text"
      },
      "source": [
        "### No. 4\n",
        "\n",
        "Write a Python program to calculate the sum of three given numbers. If the values are equal, then return thrice of their sum, if not return the sum\n",
        "\n",
        "Sample Numbers: 1, 2, 3\n",
        "\n",
        "Sample Numbers: 3, 3, 3"
      ]
    },
    {
      "cell_type": "code",
      "metadata": {
        "id": "S8ZmgXWJzVrN",
        "colab_type": "code",
        "colab": {}
      },
      "source": [
        "def no_4(x, y, z):\n",
        "  sum = 0\n",
        "  # Start your coding below\n",
        "  return sum\n",
        "  \n",
        "print(no_4(1, 2, 3))\n",
        "# Expected Output\n",
        "# 6\n",
        "\n",
        "print(no_4(3, 3, 3))\n",
        "# Expected Output\n",
        "# 27"
      ],
      "execution_count": null,
      "outputs": []
    },
    {
      "cell_type": "markdown",
      "metadata": {
        "id": "w__EYuIwzb7_",
        "colab_type": "text"
      },
      "source": [
        "### No. 5\n",
        "\n",
        "Write a Python program which accepts a sequence of comma-separated numbers from user and generate a list and a tuple with those numbers.\n",
        "**Hint**: search python `split()` method in google\n"
      ]
    },
    {
      "cell_type": "code",
      "metadata": {
        "id": "3ezLhb8pzdbZ",
        "colab_type": "code",
        "colab": {}
      },
      "source": [
        "def no_5():\n",
        "  # Start your coding below\n",
        "  \n",
        "no_5()\n",
        "# Expected Output\n",
        "# Enter some comma seperated numbers: 3, 5, 7, 23\n",
        "# List : ['3', ' 5', ' 7', ' 23'] \n",
        "# Tuple : ('3', ' 5', ' 7', ' 23')"
      ],
      "execution_count": null,
      "outputs": []
    },
    {
      "cell_type": "markdown",
      "metadata": {
        "id": "LGd7mr_6znKj",
        "colab_type": "text"
      },
      "source": [
        "### No. 6\n",
        "\n",
        "Write a Python program to display the current date and time.\n",
        "After that, calculate the day difference between 11/7/2020 and today's date\n",
        "\n",
        "**Hint** : search python `datetime` built-in library in google"
      ]
    },
    {
      "cell_type": "code",
      "metadata": {
        "id": "DeSM2AXfzp-G",
        "colab_type": "code",
        "colab": {}
      },
      "source": [
        "def no_6():\n",
        "  # Start your coding below\n",
        "\n",
        "no_6()\n",
        "# Expected Output\n",
        "# Today's date: date\n",
        "# Day difference: date"
      ],
      "execution_count": null,
      "outputs": []
    },
    {
      "cell_type": "markdown",
      "metadata": {
        "id": "vfTGm5qbzu0U",
        "colab_type": "text"
      },
      "source": [
        "### No. 7\n",
        "Write a Python program to get the difference between a given number and 17. If the given number is greater than 17, return the double of differenc or else return the difference.\n",
        "\n",
        "Given Number : 22, 14"
      ]
    },
    {
      "cell_type": "code",
      "metadata": {
        "id": "t2rBoa2zhlO9",
        "colab_type": "code",
        "colab": {}
      },
      "source": [
        "def no_7(given_num):\n",
        "  # Start your coding below\n",
        "\n",
        "print(no_7(22))\n",
        "# Expected Output\n",
        "# 10\n",
        "\n",
        "print(no_7(14))\n",
        "# Expected Output\n",
        "# 3"
      ],
      "execution_count": null,
      "outputs": []
    },
    {
      "cell_type": "markdown",
      "metadata": {
        "id": "SoH9l3m6z3N4",
        "colab_type": "text"
      },
      "source": [
        "### No. 8\n",
        "\n",
        "Write a Python function that takes a sequence of numbers and determines whether all the numbers are different from each other and return True or False\n",
        "\n",
        "Sample Data : 1, 5, 7, 9\n",
        "\n",
        "Sample Data : 2, 4, 5, 5, 7, 9 \n",
        "\n",
        "**Hint** : `Set` do not contain repeated items"
      ]
    },
    {
      "cell_type": "code",
      "metadata": {
        "id": "_FyhNPVlz4eq",
        "colab_type": "code",
        "colab": {}
      },
      "source": [
        "def no_8(data):\n",
        "  # Start your coding below\n",
        "  \n",
        "\n",
        "print(no_8([1, 5, 7, 9]))\n",
        "# Expected Output\n",
        "# True\n",
        "\n",
        "print(no_8([2, 4, 5, 5, 7, 9]))\n",
        "# Expected Output\n",
        "# False"
      ],
      "execution_count": null,
      "outputs": []
    },
    {
      "cell_type": "markdown",
      "metadata": {
        "id": "Kv1bbkWoz_gB",
        "colab_type": "text"
      },
      "source": [
        "### No. 9\n",
        "\n",
        "Write a Python program to find those numbers which are divisible by 7 and 5, between 1500 and 2700 (both included).\n",
        "\n",
        "**Hint** : Use `for in range()` as a loop"
      ]
    },
    {
      "cell_type": "code",
      "metadata": {
        "id": "0x6sW0WO0A8e",
        "colab_type": "code",
        "colab": {}
      },
      "source": [
        "def no_9():\n",
        "  # Start your coding below\n",
        "  \n",
        "\n",
        "no_9()\n",
        "# Expected Output\n",
        "# 1505,1540,1575,1610, ..., 2625,2660,2695 "
      ],
      "execution_count": null,
      "outputs": []
    },
    {
      "cell_type": "markdown",
      "metadata": {
        "id": "cGEikE6x0IAm",
        "colab_type": "text"
      },
      "source": [
        "### No. 10\n",
        "Write a Python program to guess a number between 1 to 9.\n",
        "\n",
        "Note : User is prompted to enter a guess. If the user guesses wrong then the prompt appears again until the guess is correct, on successful guess, user will get a \"Well guessed!\" message, and the program will exit.\n",
        "\n",
        "**Hint** : Use `randint` from `random` library to get randomly generated number for target num\n",
        "\n",
        "**Hint** : Use `while loop`, see how to use while loop in lecture pdf"
      ]
    },
    {
      "cell_type": "code",
      "metadata": {
        "id": "rUN0Zurt0Jco",
        "colab_type": "code",
        "colab": {}
      },
      "source": [
        "import random\n",
        "def no_10():\n",
        "  target_num = random.randint( , )\n",
        "  guess_num = 0\n",
        "  # Start your coding below\n",
        "\n",
        "no_10()\n",
        "# Expected Output\n",
        "# Guess a number between 1 and 10 until you get it right: user input\n",
        "# Well guessed"
      ],
      "execution_count": null,
      "outputs": []
    }
  ]
}