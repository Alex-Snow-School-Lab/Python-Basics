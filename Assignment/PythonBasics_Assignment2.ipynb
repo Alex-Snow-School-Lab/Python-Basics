{
  "nbformat": 4,
  "nbformat_minor": 0,
  "metadata": {
    "colab": {
      "name": "PythonBasics_Assignment2.ipynb",
      "provenance": [],
      "collapsed_sections": [
        "Rl7XHezP1ffk",
        "ibWG7NoaxMWT",
        "WqW6-0yzzL8Z",
        "YcDJB666zTvg",
        "w__EYuIwzb7_",
        "LGd7mr_6znKj",
        "vfTGm5qbzu0U",
        "SoH9l3m6z3N4",
        "Kv1bbkWoz_gB",
        "cGEikE6x0IAm"
      ]
    },
    "kernelspec": {
      "name": "python3",
      "display_name": "Python 3"
    }
  },
  "cells": [
    {
      "cell_type": "markdown",
      "metadata": {
        "id": "Y26YW3Mj2LHI",
        "colab_type": "text"
      },
      "source": [
        "<figure>\n",
        "<center>\n",
        "<img src='https://raw.githubusercontent.com/Alex-Snow-School-Lab/Python-Basics/master/cover%20ppt.png' width = '800px'/>\n",
        "</center>\n",
        "</figure>"
      ]
    },
    {
      "cell_type": "markdown",
      "metadata": {
        "id": "6VwQJVb9oQDe",
        "colab_type": "text"
      },
      "source": [
        "## Assignment 2\n",
        "**Assigned Date - 12 July 2020 (9:30 PM)**\n",
        "\n",
        "**Self-Interactive Due Date - 18 July 2020 (11:59:59 AM)**\n",
        "\n",
        "**Self-Paced Due Date - Infinity**\n"
      ]
    },
    {
      "cell_type": "markdown",
      "metadata": {
        "id": "3t-IGFgS0TQT",
        "colab_type": "text"
      },
      "source": [
        "### Description\n"
      ]
    },
    {
      "cell_type": "markdown",
      "metadata": {
        "id": "lp25lrzp08ew",
        "colab_type": "text"
      },
      "source": [
        "In this Assignment, you have to answer all of our questions and write appropriate coding answers in already declared functions to practice how well you understood \n",
        "about previous lectures and get hands on code with small problems exercise to gain more experience about python programming language.\n",
        "\n",
        "Once you've completed the assignment,\n",
        "\n",
        "1.   Rename this file \"PythonBasics - Assignment2.ipynb\" to this file naming format (Eg, **A2 - NyanSwanAung.ipynb**)\n",
        "\n",
        "2.   Upload your renamed answer file to our google drive folder  (see [this video](https://www.alexsnowschool.org/courses/take/intro-to-python/lessons/14303017-how-to-upload-your-assignment-files-to-our-avairds-google-drive-folder) for demo)\n",
        "\n",
        "\n",
        "---\n",
        "\n",
        "\n",
        "Rules\n",
        "\n",
        "In order to complete the Assignment 1, you have to answer **ALL OF THE QUESTIONS**. Your answers will be graded and stored in our system once we view your code and your certification depends on how well you answered the Assignment questions. **Submit your answer before deadline**.\n",
        "\n",
        "Tips for answering Assignment\n",
        "\n",
        "1. Write your coding answer in related already declared functions\n",
        "2. Once you've done the coding, run the cell and see if your output matches with expected output.\n",
        "3. You can use Google to search python built-in libraries/functions and python syntax \n",
        "\n",
        "4. Start Coding! 👨‍💻 👩‍💻🤓   "
      ]
    },
    {
      "cell_type": "markdown",
      "metadata": {
        "id": "Rl7XHezP1ffk",
        "colab_type": "text"
      },
      "source": [
        "### Example Question\n",
        "\n",
        "Write a string with this value \"Hello World\" by using `print()` function."
      ]
    },
    {
      "cell_type": "code",
      "metadata": {
        "id": "LM2AD7ob1nHV",
        "colab_type": "code",
        "colab": {
          "base_uri": "https://localhost:8080/",
          "height": 34
        },
        "outputId": "697f605f-6c74-411a-8b29-b37d50de1f8d"
      },
      "source": [
        "def example_1():\n",
        "  #Start your coding below\n",
        "  print('Hello World')\n",
        "\n",
        "example_1()\n",
        "# Expected Output: Hello World"
      ],
      "execution_count": null,
      "outputs": [
        {
          "output_type": "stream",
          "text": [
            "Hello World\n"
          ],
          "name": "stdout"
        }
      ]
    },
    {
      "cell_type": "markdown",
      "metadata": {
        "id": "Y9szuueEyZ1n",
        "colab_type": "text"
      },
      "source": [
        "### No. 1\n",
        "\n",
        "Write a Python program to ask how many integers user wants to input. Then change those numbers into list. After that, find the second smallest number of that list. \n"
      ]
    },
    {
      "cell_type": "code",
      "metadata": {
        "id": "WH1z5e_Tyl7H",
        "colab_type": "code",
        "colab": {
          "base_uri": "https://localhost:8080/",
          "height": 143
        },
        "outputId": "0dc1b572-f49a-42b1-a9c4-d4de6772eb50"
      },
      "source": [
        "def no_1():\n",
        "  n = int(input(\"How many numbers do you want to input: \"))\n",
        "  my_list = []\n",
        "\n",
        "  for i in range(0, n): \n",
        "    numbers = int(input('Enter the number:')) \n",
        "    my_list.append(numbers)  \n",
        "    \n",
        "  print('Here is a list of your numbers: ', my_list) \n",
        "  my_list.sort()\n",
        "  print('Smallest number from the list:', my_list[1])\n",
        "\n",
        "no_1()\n",
        "\n",
        "# Expected Output\n",
        "# How many numbers do you want to input: sample userinput -> 3\n",
        "# Enter the number: input\n",
        "# Enter the number: input\n",
        "# Enter the number: input\n",
        "# Here is a list of your numbers: user-input\n",
        "# Smallest number from the list: result"
      ],
      "execution_count": null,
      "outputs": [
        {
          "output_type": "stream",
          "text": [
            "How many numbers do you want to input: 3\n",
            "Enter the number:-5\n",
            "Enter the number:-9\n",
            "Enter the number:3\n",
            "Here is a list of your numbers:  [-5, -9, 3]\n",
            "Smallest number from the list: -5\n"
          ],
          "name": "stdout"
        }
      ]
    },
    {
      "cell_type": "markdown",
      "metadata": {
        "id": "ibWG7NoaxMWT",
        "colab_type": "text"
      },
      "source": [
        "### No. 2\n",
        "\n",
        "**No 2_1**\n",
        "\n",
        "Write a Python program to map two lists into a dictionary.\n",
        "\n",
        "Sample List 1 : [ 'red', 'green', 'blue' ]\n",
        "\n",
        "Sample List 2 : [ '#FF0000','#008000', '#0000FF' ]\n",
        "\n",
        "**Hint** : use `zip` keyword\n",
        "\n",
        "\n",
        "---\n",
        "\n",
        "\n",
        "**No 2_2**\n",
        "\n",
        "Write a Python program to combine two dictionary adding values for common keys.\n",
        "\n",
        "Sample dict 1 : a = 100, b = 200, c = 300\n",
        "\n",
        "Sample dict 2 : a = 500, b = 300, d = 100 \n",
        "\n",
        "**Hint**: Search about `Counter()` function from `collections` python built-in module"
      ]
    },
    {
      "cell_type": "code",
      "metadata": {
        "id": "2rJ9WFUrxRQ7",
        "colab_type": "code",
        "colab": {
          "base_uri": "https://localhost:8080/",
          "height": 72
        },
        "outputId": "8d4f7d3e-5c91-4168-f8bf-0302fa79f56b"
      },
      "source": [
        "def no_2_1():\n",
        "\n",
        "  keys = ['red', 'green', 'blue']\n",
        "  values = ['#FF0000','#008000', '#0000FF']\n",
        "  color_dictionary = dict(zip(keys, values))\n",
        "  print(color_dictionary)\n",
        "\n",
        "no_2_1()\n",
        "# Expected Output\n",
        "# {'green': '#008000', 'blue': '#0000FF', 'red': '#FF0000'} \n",
        "\n",
        "def no_2_2():\n",
        "  from collections import Counter\n",
        "  d1 = {'a': 100, 'b': 200, 'c': 300}\n",
        "  d2 = {'a': 500, 'b': 300, 'd': 100}\n",
        "  d = Counter(d1) + Counter(d2)\n",
        "  print(d)\n",
        "\n",
        "no_2_2()\n",
        "# Expected Output\n",
        "# Counter({'a': 600, 'b': 500, 'c': 300, 'd' : 100}) \n"
      ],
      "execution_count": null,
      "outputs": [
        {
          "output_type": "stream",
          "text": [
            "{'red': '#FF0000', 'green': '#008000', 'blue': '#0000FF'}\n",
            "Counter({'a': 600, 'b': 500, 'c': 300, 'd': 100})\n"
          ],
          "name": "stdout"
        }
      ]
    },
    {
      "cell_type": "markdown",
      "metadata": {
        "id": "WqW6-0yzzL8Z",
        "colab_type": "text"
      },
      "source": [
        "### No. 3\n",
        "Write a Python program to generate and print a list of first and last 5 elements where the values are square of numbers between 1 and 20 (both included)."
      ]
    },
    {
      "cell_type": "code",
      "metadata": {
        "id": "SIJ3mwcTzQJj",
        "colab_type": "code",
        "colab": {
          "base_uri": "https://localhost:8080/",
          "height": 72
        },
        "outputId": "e2823f79-1dd9-47af-9bb1-d4a866edbda2"
      },
      "source": [
        "def no_3():\n",
        "  # Start your coding below\n",
        "\tmy_list = []\n",
        "\tfor i in range(1,21):\n",
        "\t\tmy_list.append(i ** 2)\n",
        "\tprint('First five elements: ', my_list[:5])\n",
        "\tprint('Last five elements:', my_list[-5:])\n",
        "\n",
        "no_3()\n",
        "# Expected Output\n",
        "# First five elements : [1, 4, 9, 16, 25]\n",
        "# Last five elements : [256, 289, 324, 361, 400]"
      ],
      "execution_count": null,
      "outputs": [
        {
          "output_type": "stream",
          "text": [
            "First five elements:  [1, 4, 9, 16, 25]\n",
            "Last five elements: [256, 289, 324, 361, 400]\n"
          ],
          "name": "stdout"
        }
      ]
    },
    {
      "cell_type": "markdown",
      "metadata": {
        "id": "YcDJB666zTvg",
        "colab_type": "text"
      },
      "source": [
        "### No. 4\n",
        "\n",
        "**No 4_1**\n",
        "\n",
        "Write a Python program to create a dictionary, from a string, with the value of 1 for all keys for dictionary\n",
        "\n",
        "Sample string : autonomous_vehicle_AI_robotics_datascience\n",
        "\n",
        "**No 4_2**\n",
        "Write a Python program to ask a number from user and  create the multiplication table (from 1 to 12) of that  number."
      ]
    },
    {
      "cell_type": "code",
      "metadata": {
        "id": "S8ZmgXWJzVrN",
        "colab_type": "code",
        "colab": {
          "base_uri": "https://localhost:8080/",
          "height": 284
        },
        "outputId": "51e84c83-eff3-40ce-dc35-7895a39ba00d"
      },
      "source": [
        "def no_4_1():\n",
        "  \n",
        "  str1 = 'autonomous_vehicle_AI_robotics_datascience' \n",
        "  my_dict = {}\n",
        "  for letter in str1:\n",
        "      my_dict[letter] = my_dict.get(letter, 0) + 1\n",
        "  print(my_dict)\n",
        "\n",
        "no_4_1()\n",
        "# Expected output\n",
        "# {'a': 3, 'u': 2, 't': 3, 'o': 5, 'n': 2, 'm': 1, 's': 3, '_': 4, 'v': 1, \n",
        "# 'e': 4, 'h': 1, 'i': 3, 'c': 4, 'l': 1, 'A': 1, 'I': 1, 'r': 1,\n",
        "# 'b': 1, 'd': 1 }\n",
        "\n",
        "def no_4_2():\n",
        "  n = int(input(\"Enter a number for multiplication table: \"))\n",
        "\n",
        "  # use for loop to iterate 10 times\n",
        "  for i in range(1,13):\n",
        "    print(n,'x',i,'=',n*i)\n",
        "\n",
        "no_4_2()\n",
        "# Expected output\n",
        "# Enter a number for multiplication table: user-input\n",
        "\n",
        "\"\"\"\n",
        "3 x 1 = 3\n",
        "3 x 2 = 6\n",
        "3 x 3 = 9\n",
        "3 x 4 = 12\n",
        "3 x 5 = 15\n",
        "3 x 6 = 18\n",
        "3 x 7 = 21\n",
        "3 x 8 = 24\n",
        "3 x 9 = 27\n",
        "3 x 10 = 30\n",
        "3 x 11 = 33\n",
        "3 x 12 = 36\n",
        "\"\"\""
      ],
      "execution_count": 44,
      "outputs": [
        {
          "output_type": "stream",
          "text": [
            "{'a': 3, 'u': 2, 't': 3, 'o': 5, 'n': 2, 'm': 1, 's': 3, '_': 4, 'v': 1, 'e': 4, 'h': 1, 'i': 3, 'c': 4, 'l': 1, 'A': 1, 'I': 1, 'r': 1, 'b': 1, 'd': 1}\n",
            "Enter a number for multiplication table: 3\n",
            "3 x 1 = 3\n",
            "3 x 2 = 6\n",
            "3 x 3 = 9\n",
            "3 x 4 = 12\n",
            "3 x 5 = 15\n",
            "3 x 6 = 18\n",
            "3 x 7 = 21\n",
            "3 x 8 = 24\n",
            "3 x 9 = 27\n",
            "3 x 10 = 30\n",
            "3 x 11 = 33\n",
            "3 x 12 = 36\n"
          ],
          "name": "stdout"
        }
      ]
    },
    {
      "cell_type": "markdown",
      "metadata": {
        "id": "w__EYuIwzb7_",
        "colab_type": "text"
      },
      "source": [
        "### No. 5\n",
        "\n",
        "**No 5_1**\n",
        "\n",
        "Write a Python program that accepts a string and calculate the total number of digits and letters.\n",
        "\n",
        "Sample String : 3blue1brown\n",
        "\n",
        "**Hint**: search `isdigit()` and `isalpha()` which are python built-in functions\n",
        "\n",
        "**No 5_2**\n",
        "\n",
        "Write a Python program to check whether a character is a vowel or consonant. Take character input from user.\n"
      ]
    },
    {
      "cell_type": "code",
      "metadata": {
        "id": "3ezLhb8pzdbZ",
        "colab_type": "code",
        "colab": {
          "base_uri": "https://localhost:8080/",
          "height": 125
        },
        "outputId": "e0146374-5d3f-4c30-b253-79ebcf426e6a"
      },
      "source": [
        "def no_5_1():\n",
        "  # Start your coding below\n",
        "  s = input(\"Input a string: \")\n",
        "  d=l=0\n",
        "  for c in s:\n",
        "      if c.isdigit():\n",
        "          d=d+1\n",
        "      elif c.isalpha():\n",
        "          l=l+1\n",
        "      else:\n",
        "          pass\n",
        "  print(\"Letters:\", l)\n",
        "  print(\"Digits:\", d)\n",
        "  \n",
        "no_5_1()\n",
        "# Expected Output\n",
        "# Input a string: sample data\n",
        "# Letters: 9 \n",
        "# Digits: 2\n",
        "\n",
        "def no_5_2():\n",
        "    # Start your coding below\n",
        "    l = input(\"Enter a character: \")\n",
        "    if l in ('a', 'e', 'i', 'o', 'u'):\n",
        "      print(f\"{l} is a vowel.\")\n",
        "    else:\n",
        "      print(f\"{l} is a consonant.\") \n",
        "\n",
        "no_5_2()\n",
        "# Expected output\n",
        "# Enter a character: user-input\n",
        "# user-input is a vowel or consonant (depending on user input)"
      ],
      "execution_count": 42,
      "outputs": [
        {
          "output_type": "stream",
          "text": [
            "Input a string: 3blue1brown\n",
            "Letters: 9\n",
            "Digits: 2\n",
            "Enter a character: e\n",
            "e is a vowel.\n"
          ],
          "name": "stdout"
        }
      ]
    },
    {
      "cell_type": "markdown",
      "metadata": {
        "id": "LGd7mr_6znKj",
        "colab_type": "text"
      },
      "source": [
        "### No. 6\n",
        "\n",
        "Write a Python program to display the current date and time.\n",
        "After that, calculate the day difference between 11/7/2020 and today's date\n",
        "\n",
        "**Hint** : search python `datetime` built-in library in google"
      ]
    },
    {
      "cell_type": "code",
      "metadata": {
        "id": "DeSM2AXfzp-G",
        "colab_type": "code",
        "colab": {}
      },
      "source": [
        "def no_6():\n",
        "  # Start your coding below\n",
        "\n",
        "no_6()\n",
        "# Expected Output\n",
        "# Today's date: date\n",
        "# Day difference: date"
      ],
      "execution_count": null,
      "outputs": []
    },
    {
      "cell_type": "markdown",
      "metadata": {
        "id": "vfTGm5qbzu0U",
        "colab_type": "text"
      },
      "source": [
        "### No. 7\n",
        "Write a Python program to get the difference between a given number and 17. If the given number is greater than 17, return the double of differenc or else return the difference.\n",
        "\n",
        "Given Number : 22, 14"
      ]
    },
    {
      "cell_type": "code",
      "metadata": {
        "id": "t2rBoa2zhlO9",
        "colab_type": "code",
        "colab": {}
      },
      "source": [
        "def no_7(given_num):\n",
        "  # Start your coding below\n",
        "\n",
        "print(no_7(22))\n",
        "# Expected Output\n",
        "# 10\n",
        "\n",
        "print(no_7(14))\n",
        "# Expected Output\n",
        "# 3"
      ],
      "execution_count": null,
      "outputs": []
    },
    {
      "cell_type": "markdown",
      "metadata": {
        "id": "SoH9l3m6z3N4",
        "colab_type": "text"
      },
      "source": [
        "### No. 8\n",
        "\n",
        "Write a Python function that takes a sequence of numbers and determines whether all the numbers are different from each other and return True or False\n",
        "\n",
        "Sample Data : 1, 5, 7, 9\n",
        "\n",
        "Sample Data : 2, 4, 5, 5, 7, 9 \n",
        "\n",
        "**Hint** : `Set` do not contain repeated items"
      ]
    },
    {
      "cell_type": "code",
      "metadata": {
        "id": "_FyhNPVlz4eq",
        "colab_type": "code",
        "colab": {}
      },
      "source": [
        "def no_8(data):\n",
        "  # Start your coding below\n",
        "  \n",
        "\n",
        "print(no_8([1, 5, 7, 9]))\n",
        "# Expected Output\n",
        "# True\n",
        "\n",
        "print(no_8([2, 4, 5, 5, 7, 9]))\n",
        "# Expected Output\n",
        "# False"
      ],
      "execution_count": null,
      "outputs": []
    },
    {
      "cell_type": "markdown",
      "metadata": {
        "id": "Kv1bbkWoz_gB",
        "colab_type": "text"
      },
      "source": [
        "### No. 9\n",
        "\n",
        "Write a Python program to find those numbers which are divisible by 7 and 5, between 1500 and 2700 (both included).\n",
        "\n",
        "**Hint** : Use `for in range()` as a loop"
      ]
    },
    {
      "cell_type": "code",
      "metadata": {
        "id": "0x6sW0WO0A8e",
        "colab_type": "code",
        "colab": {}
      },
      "source": [
        "def no_9():\n",
        "  # Start your coding below\n",
        "  \n",
        "\n",
        "no_9()\n",
        "# Expected Output\n",
        "# 1505,1540,1575,1610, ..., 2625,2660,2695 "
      ],
      "execution_count": null,
      "outputs": []
    },
    {
      "cell_type": "markdown",
      "metadata": {
        "id": "cGEikE6x0IAm",
        "colab_type": "text"
      },
      "source": [
        "### No. 10\n",
        "Write a Python program to guess a number between 1 to 9.\n",
        "\n",
        "Note : User is prompted to enter a guess. If the user guesses wrong then the prompt appears again until the guess is correct, on successful guess, user will get a \"Well guessed!\" message, and the program will exit.\n",
        "\n",
        "**Hint** : Use `randint` from `random` library to get randomly generated number for target num\n",
        "\n",
        "**Hint** : Use `while loop`, see how to use while loop in lecture pdf"
      ]
    },
    {
      "cell_type": "code",
      "metadata": {
        "id": "rUN0Zurt0Jco",
        "colab_type": "code",
        "colab": {}
      },
      "source": [
        "import random\n",
        "def no_10():\n",
        "  target_num = random.randint( , )\n",
        "  guess_num = 0\n",
        "  # Start your coding below\n",
        "\n",
        "no_10()\n",
        "# Expected Output\n",
        "# Guess a number between 1 and 10 until you get it right: user input\n",
        "# Well guessed"
      ],
      "execution_count": null,
      "outputs": []
    }
  ]
}