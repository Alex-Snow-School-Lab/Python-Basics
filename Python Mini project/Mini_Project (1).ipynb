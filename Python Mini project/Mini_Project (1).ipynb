{
  "nbformat": 4,
  "nbformat_minor": 0,
  "metadata": {
    "colab": {
      "name": "Mini_Project.ipynb",
      "provenance": [],
      "collapsed_sections": [
        "Y9szuueEyZ1n",
        "ibWG7NoaxMWT",
        "YcDJB666zTvg",
        "w__EYuIwzb7_",
        "LGd7mr_6znKj",
        "vfTGm5qbzu0U"
      ]
    },
    "kernelspec": {
      "name": "python3",
      "display_name": "Python 3"
    }
  },
  "cells": [
    {
      "cell_type": "markdown",
      "metadata": {
        "id": "Y26YW3Mj2LHI",
        "colab_type": "text"
      },
      "source": [
        "<figure>\n",
        "<center>\n",
        "<img src='https://raw.githubusercontent.com/Alex-Snow-School-Lab/Python-Basics/master/cover%20ppt.png' width = '800px'/>\n",
        "</center>\n",
        "</figure>"
      ]
    },
    {
      "cell_type": "markdown",
      "metadata": {
        "id": "6VwQJVb9oQDe",
        "colab_type": "text"
      },
      "source": [
        "#**Assignment 3 (Mini project)>=5\n",
        "**Assigned Date - 18 July 2020 (9:00 PM)**\n",
        "\n",
        "**Self-Interactive Due Date - 24 July 2020 (11:59:59 AM)**\n",
        "\n",
        "**Self-Paced Due Date - Infinity**\n"
      ]
    },
    {
      "cell_type": "markdown",
      "metadata": {
        "id": "3t-IGFgS0TQT",
        "colab_type": "text"
      },
      "source": [
        "### Description\n"
      ]
    },
    {
      "cell_type": "markdown",
      "metadata": {
        "id": "lp25lrzp08ew",
        "colab_type": "text"
      },
      "source": [
        "In this Assignment, you have to answer all of our questions and write your coding idea to chip away at our projects.We believe you all can find out to mediate our problems with your insights depend on understandings  the lectures and if you can't slove all of the questions,don't worry about that because we're always with you and explain after all of you submit your files.\n",
        "\n",
        "Once you've completed the assignment,\n",
        "\n",
        "1.   Rename this file \"PythonBasics - Assignment1.ipynb\" to this file naming format (Eg, **A1 - NyanSwanAung.ipynb**)\n",
        "\n",
        "2.   Upload your renamed answer file to our google drive folder  (see [this video](https://www.alexsnowschool.org/courses/take/intro-to-python/lessons/14303017-how-to-upload-your-assignment-files-to-our-avairds-google-drive-folder) for demo)\n",
        "\n",
        "\n",
        "---\n",
        "\n",
        "\n",
        "Rules\n",
        "\n",
        "In order to complete the Assignment 1, you have to answer **ALL OF THE QUESTIONS**. Your answers will be graded and stored in our system once we view your code and your certification depends on how well you answered the Assignment questions. **Submit your answer before deadline**.\n",
        "\n",
        "Tips for answering Assignment\n",
        "\n",
        "1. Write your coding answer in related already declared functions\n",
        "2. Once you've done the coding, run the cell and see if your output matches with expected output.\n",
        "3. You can use Google to search python built-in libraries/functions and python syntax \n",
        "\n",
        "4. Start Coding! 👨‍💻 👩‍💻🤓   "
      ]
    },
    {
      "cell_type": "markdown",
      "metadata": {
        "id": "6NGjcTVqPcCt",
        "colab_type": "text"
      },
      "source": [
        "**<Project 1>** \n",
        "\n",
        "Create changing  **US-Dollor**  to **Kyat** currency.(4 marks)\n",
        "\n",
        " The element dispose in *Kyat *  equate with element in *Dollor*.\n",
        " So assume Kyat[0] ==Dollor[0]\n",
        " So if user want to know the currency rate change of $ 46 to Myanmar Kyat is 46000ks\n",
        "\n",
        "\n"
      ]
    },
    {
      "cell_type": "code",
      "metadata": {
        "id": "ll_XB5rHXr1g",
        "colab_type": "code",
        "cellView": "both",
        "colab": {}
      },
      "source": [
        "class Conveter:\n",
        "  def Value(self,num):\n",
        "\n",
        "    Kyat=[100000, 90000, 50000, 40000,\n",
        "            1000, 9000, 5000, 4000,100,900,500,400,10,90,50,40,10,9,5,4,1]\n",
        "\n",
        "    Dollar=[100,90,50,40,1,9,5,4,0.1,0.9,0.5,0.4,0.01,0.09,0.05,0.04,0.001,0.009,0.005,0.004,0.0001]\n",
        "    \n",
        "    \n",
        "    # Start Code here!\n",
        "    # enter user inut is $ 567 , 78\n",
        "    # expected output -567000 , 78000\n",
        "    "
      ],
      "execution_count": null,
      "outputs": []
    },
    {
      "cell_type": "code",
      "metadata": {
        "id": "v8J6Pli-Yx1F",
        "colab_type": "code",
        "colab": {}
      },
      "source": [
        "Num1=int (input(\"enter the number\"))\n",
        "print(Conveter().Value(Num1))\n",
        "\n",
        "Num2=int(input(\"enter again\"))\n",
        "print(Conveter().Value(Num2))"
      ],
      "execution_count": null,
      "outputs": []
    },
    {
      "cell_type": "markdown",
      "metadata": {
        "id": "NTfbhUOFaA6e",
        "colab_type": "text"
      },
      "source": [
        "**<Project 2>**\n",
        "\n",
        "Write a Simple Caculator with forever loop for (+ , - , * , / ). (6marks)\n",
        "\n"
      ]
    },
    {
      "cell_type": "code",
      "metadata": {
        "id": "i40bQoWlcxTN",
        "colab_type": "code",
        "colab": {}
      },
      "source": [
        "choice =\"\"\n",
        "\n",
        "while (choice != \"end\"):\n",
        "  print(\"\"\" Simple Caculator\"\"\")\n",
        "\n",
        "  print(\"\"\"\n",
        "  Choice The Number >>\n",
        "  1.Calculate Number:\n",
        "  2.Exit Program\n",
        "  \"\"\"         )\n",
        "  \n",
        "  inp = input(\"Choice The Number :\") \n",
        "#Start Code Here\n",
        "#[1.first choose Option<1 or 2 >]\n",
        "# if user choose option 1(Caculate Number),Start Mathematical Opreation with Operator(+,- ,*./)\n",
        "\n",
        "\n",
        "# If user choose 1, \n",
        "  # ask input 1 : input\n",
        "  # ask input 2 : input\n",
        "  # ask which operation does user want : input\n",
        "  # Addition between input 1 and input 2 : result\n",
        "\n",
        "# If user choose 2,\n",
        "  # exit program \n"
      ],
      "execution_count": null,
      "outputs": []
    }
  ]
}